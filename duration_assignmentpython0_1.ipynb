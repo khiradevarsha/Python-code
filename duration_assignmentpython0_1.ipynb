{
  "nbformat": 4,
  "nbformat_minor": 0,
  "metadata": {
    "colab": {
      "provenance": []
    },
    "kernelspec": {
      "name": "python3",
      "display_name": "Python 3"
    },
    "language_info": {
      "name": "python"
    }
  },
  "cells": [
    {
      "cell_type": "code",
      "execution_count": null,
      "metadata": {
        "colab": {
          "base_uri": "https://localhost:8080/"
        },
        "id": "To1WYiuG-gGT",
        "outputId": "8cdb8488-53fa-4372-bd23-e11893b63643"
      },
      "outputs": [
        {
          "output_type": "stream",
          "name": "stdout",
          "text": [
            "hello python\n"
          ]
        }
      ],
      "source": [
        "print(\"hello python\")"
      ]
    },
    {
      "cell_type": "code",
      "source": [
        "\n",
        "  Age=int(input(\"what the age of person\"))\n",
        "def calculate_duration(age_years):\n",
        "    # Constants for time calculations\n",
        "    days_per_year = 365.25  # Average considering leap years\n",
        "    months_per_year = 12\n",
        "    weeks_per_year = 52.1775  # Average considering leap years\n",
        "    hours_per_day = 24\n",
        "    minutes_per_hour = 60\n",
        "    seconds_per_minute = 60\n",
        "\n",
        "    # Calculations\n",
        "    total_days = age_years * days_per_year\n",
        "    total_months = age_years * months_per_year\n",
        "    total_weeks = age_years * weeks_per_year\n",
        "    total_hours = total_days * hours_per_day\n",
        "    total_minutes = total_hours * minutes_per_hour\n",
        "    total_seconds = total_minutes * seconds_per_minute\n",
        "\n",
        "    return {\n",
        "        \"Months\": total_months,\n",
        "        \"Weeks\": total_weeks,\n",
        "        \"Days\": total_days,\n",
        "        \"Hours\": total_hours,\n",
        "        \"Minutes\": total_minutes,\n",
        "        \"Seconds\": total_seconds\n",
        "    }\n",
        "\n",
        "def main():\n",
        "    print(\"Welcome to the Age Duration Calculator!\")\n",
        "\n",
        "    # Fixed age input for demonstration\n",
        "    age_years = 10\n",
        "    print(f\"Calculating duration for age: {age_years} years\")\n",
        "\n",
        "    # Calculate duration\n",
        "    duration = calculate_duration(age_years)\n",
        "\n",
        "    # User selects a time unit\n",
        "    print(\"\\nChoose a time unit to see how long you've lived:\")\n",
        "    print(\"1. Months\")\n",
        "    print(\"2. Weeks\")\n",
        "    print(\"3. Days\")\n",
        "    print(\"4. Hours\")\n",
        "    print(\"5. Minutes\")\n",
        "    print(\"6. Seconds\")\n",
        "\n",
        "    choice = input(\"Enter the number corresponding to your choice: \")\n",
        "\n",
        "    # Map the choice to the corresponding unit\n",
        "    time_units = {\n",
        "        \"1\": \"Months\",\n",
        "        \"2\": \"Weeks\",\n",
        "        \"3\": \"Days\",\n",
        "        \"4\": \"Hours\",\n",
        "        \"5\": \"Minutes\",\n",
        "        \"6\": \"Seconds\"\n",
        "    }\n",
        "\n",
        "    selected_unit = time_units.get(choice)\n",
        "\n",
        "    if selected_unit:\n",
        "        print(f\"\\nYou have lived for approximately {duration[selected_unit]:.2f} {selected_unit.lower()}.\")\n",
        "    else:\n",
        "        print(\"Invalid choice. Please select a valid time unit.\")\n",
        "\n",
        "if __name__ == \"__main__\":\n",
        "    main()\n"
      ],
      "metadata": {
        "colab": {
          "base_uri": "https://localhost:8080/"
        },
        "id": "m1QI9Yuw-4Uk",
        "outputId": "c793971a-40e1-4775-f13a-7494272de027"
      },
      "execution_count": 1,
      "outputs": [
        {
          "output_type": "stream",
          "name": "stdout",
          "text": [
            "what the age of person10\n",
            "Welcome to the Age Duration Calculator!\n",
            "Calculating duration for age: 10 years\n",
            "\n",
            "Choose a time unit to see how long you've lived:\n",
            "1. Months\n",
            "2. Weeks\n",
            "3. Days\n",
            "4. Hours\n",
            "5. Minutes\n",
            "6. Seconds\n",
            "Enter the number corresponding to your choice: 1\n",
            "\n",
            "You have lived for approximately 120.00 months.\n"
          ]
        }
      ]
    },
    {
      "cell_type": "code",
      "source": [
        "x = int(input(\"Age:\"))\n",
        "\n",
        "Month = 30 * 24 * 60 * 60\n",
        "Week = 7 * 24 * 60 * 60\n",
        "Days = 24 * 60 * 60\n",
        "Hours = 60 * 60\n",
        "Minutes = 60\n",
        "Duration_in_year = x * 365 * 24 * 60 *60\n",
        "Duration_in_month = Duration_in_year //  Month\n",
        "Duration_in_week = Duration_in_year // Week\n",
        "Duration_in_days = Duration_in_year // Days\n",
        "Duration_in_hours = Duration_in_year // Hours\n",
        "Duration_in_minutes = Duration_in_year // Minutes\n",
        "\n",
        "print (f\"Seconds lived in Year: {Duration_in_year}\")\n",
        "print (f\"Seconds lived in Month: {Duration_in_month}\")\n",
        "print (f\"Seconds lived in Weeks: {Duration_in_week}\")\n",
        "print (f\"Seconds lived in Days: {Duration_in_days}\")\n",
        "print (f\"Seconds lived in Hours: {Duration_in_hours}\")\n",
        "print (f\"Seconds lived in Minutes: {Duration_in_minutes}\")"
      ],
      "metadata": {
        "colab": {
          "base_uri": "https://localhost:8080/"
        },
        "id": "6yAn1ipgVH6z",
        "outputId": "da4efa96-f553-47d4-b747-c8e7d07b52a9"
      },
      "execution_count": 2,
      "outputs": [
        {
          "output_type": "stream",
          "name": "stdout",
          "text": [
            "Age:10\n",
            "Seconds lived in Year: 315360000\n",
            "Seconds lived in Month: 121\n",
            "Seconds lived in Weeks: 521\n",
            "Seconds lived in Days: 3650\n",
            "Seconds lived in Hours: 87600\n",
            "Seconds lived in Minutes: 5256000\n"
          ]
        }
      ]
    },
    {
      "cell_type": "code",
      "source": [
        "from datetime import date\n",
        "\n",
        "birth_day=int(input(\"enter your birth day:-\"))\n",
        "birth_month=int(input(\"enter your birth month:-\"))\n",
        "birth_year=int(input(\"enter your birth year:-\"))\n",
        "\n",
        "\n",
        "current_day=date.today().day\n",
        "current_month=date.today().month\n",
        "current_year=date.today().year\n",
        "\n",
        "\n",
        "die_day=current_day-birth_day\n",
        "die_month=current_month-birth_month\n",
        "die_year=current_year-birth_year\n",
        "\n",
        "\n",
        "print(f\"you die at {die_day}day,{die_month}month,{die_year}year\")"
      ],
      "metadata": {
        "colab": {
          "base_uri": "https://localhost:8080/"
        },
        "id": "D7GGOMiaVQz-",
        "outputId": "1518fc73-5c91-4728-ffcb-0eb483da51b6"
      },
      "execution_count": 3,
      "outputs": [
        {
          "output_type": "stream",
          "name": "stdout",
          "text": [
            "enter your birth day:-10\n",
            "enter your birth month:-27\n",
            "enter your birth year:-1996\n",
            "you die at 18day,-18month,28year\n"
          ]
        }
      ]
    }
  ]
}